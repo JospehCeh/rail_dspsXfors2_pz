{
 "cells": [
  {
   "cell_type": "markdown",
   "id": "6773ef86-b4e4-44d9-8560-f14c914606df",
   "metadata": {},
   "source": [
    "# Checkrail_dspsXfors2_pzdata"
   ]
  },
  {
   "cell_type": "markdown",
   "id": "4e903ee0-21bb-4e3a-aaec-0cf6f6afc772",
   "metadata": {},
   "source": []
  },
  {
   "cell_type": "code",
   "execution_count": null,
   "id": "8f835f9c-472f-4b6b-8532-866cf16ae05e",
   "metadata": {},
   "outputs": [],
   "source": [
    "%env PZDATALOC=\"/Users/dagoret/MacOSX/GitHub/LSST/desc/2024/Delight_cython/rail_dspsXfors2_pz/src/rail/dsps_fors2_pz/data\""
   ]
  },
  {
   "cell_type": "code",
   "execution_count": null,
   "id": "6e49e458-d63e-4d9a-9735-5079cd1933bf",
   "metadata": {},
   "outputs": [],
   "source": [
    "#%env PZDATALOC=\"/Users/dagoret/MacOSX/GitHub/LSST/desc/2024/Delight_cython/rail_dspsXfors2_pz/src/rail/dsps_fors2_pz/data\""
   ]
  },
  {
   "cell_type": "code",
   "execution_count": null,
   "id": "c0acce5c-4812-41c7-9422-0bb04d06f913",
   "metadata": {},
   "outputs": [],
   "source": [
    "import os\n",
    "import numpy as np\n",
    "from tqdm import tqdm\n",
    "import matplotlib.pyplot as plt\n",
    "%matplotlib inline"
   ]
  },
  {
   "cell_type": "code",
   "execution_count": null,
   "id": "0eed9ae9-fc04-456d-8bbf-31c3f78de305",
   "metadata": {},
   "outputs": [],
   "source": [
    "from rail.dsps_fors2_pz import readPhotoZHDF5, json_to_inputs, run_from_inputs"
   ]
  },
  {
   "cell_type": "code",
   "execution_count": null,
   "id": "b46a3d66-5251-4898-8ae3-0dda4e144e8b",
   "metadata": {},
   "outputs": [],
   "source": [
    "from rail.dsps_fors2_pz import data"
   ]
  },
  {
   "cell_type": "code",
   "execution_count": null,
   "id": "018de18e-bc0b-4e50-9c4d-0dc00a22c9c6",
   "metadata": {},
   "outputs": [],
   "source": [
    "path_data = data.__path__[0]"
   ]
  },
  {
   "cell_type": "code",
   "execution_count": null,
   "id": "c1656f28-8913-40c0-801b-9471bc86b3fc",
   "metadata": {},
   "outputs": [],
   "source": [
    "ls $path_data"
   ]
  },
  {
   "cell_type": "code",
   "execution_count": null,
   "id": "23ce0170-4f3e-4777-aeb7-b616b3d5b4d1",
   "metadata": {},
   "outputs": [],
   "source": [
    "%env PZDATALOC=$path_data"
   ]
  },
  {
   "cell_type": "code",
   "execution_count": null,
   "id": "14e046b1-74bd-47a3-b50f-612f50824bb2",
   "metadata": {},
   "outputs": [],
   "source": [
    "PZDATALOC = path_data"
   ]
  },
  {
   "cell_type": "code",
   "execution_count": null,
   "id": "2dc3f603-f2b3-42a4-b378-2ae8995b8a64",
   "metadata": {},
   "outputs": [],
   "source": [
    "conf_file = os.path.join(path_data,'defaults.json')\n",
    "\n",
    "input_settings = json_to_inputs(conf_file)\n",
    "input_settings"
   ]
  },
  {
   "cell_type": "code",
   "execution_count": null,
   "id": "7d8bd37f-ca09-4bc4-85e5-1c24e914e1e7",
   "metadata": {},
   "outputs": [],
   "source": [
    "input_settings['photoZ'].keys()"
   ]
  },
  {
   "cell_type": "markdown",
   "id": "7b9e2329-6410-49b7-9309-1d6921b62c16",
   "metadata": {},
   "source": [
    "## Filters"
   ]
  },
  {
   "cell_type": "code",
   "execution_count": null,
   "id": "bd7020d7-165a-4c91-a3fb-712b239b0ca6",
   "metadata": {},
   "outputs": [],
   "source": [
    "from rail.dsps_fors2_pz  import Observation,sedpyFilter,load_filt,NUV_filt, NIR_filt,get_2lists, load_galaxy"
   ]
  },
  {
   "cell_type": "code",
   "execution_count": null,
   "id": "907abf2f-9da7-45dc-b196-2d6247c48816",
   "metadata": {},
   "outputs": [],
   "source": [
    "filters_dict = input_settings['photoZ']['Filters']\n",
    "filters_dict"
   ]
  },
  {
   "cell_type": "code",
   "execution_count": null,
   "id": "1ce27c96-f7e0-493a-8d31-ae7172fd367c",
   "metadata": {},
   "outputs": [],
   "source": [
    "for _f in filters_dict:\n",
    "    filters_dict[_f][\"path\"] = os.path.abspath(os.path.join(PZDATALOC, filters_dict[_f][\"path\"]))\n",
    "print(\"Loading filters :\")\n",
    "filters_arr = tuple(sedpyFilter(*load_filt(int(ident), filters_dict[ident][\"path\"], filters_dict[ident][\"transmission\"])) for ident in tqdm(filters_dict)) + (NUV_filt, NIR_filt)\n",
    "N_FILT = len(filters_arr) - 2"
   ]
  },
  {
   "cell_type": "code",
   "execution_count": null,
   "id": "6b341044-6fa3-4cea-8544-c0c016f63084",
   "metadata": {},
   "outputs": [],
   "source": [
    "filters_arr"
   ]
  },
  {
   "cell_type": "code",
   "execution_count": null,
   "id": "8561bd97-6f58-43fc-8993-0f3cb84cf1db",
   "metadata": {},
   "outputs": [],
   "source": [
    "print(\"Building templates :\")\n",
    "Xfilt = get_2lists(filters_arr)"
   ]
  },
  {
   "cell_type": "code",
   "execution_count": null,
   "id": "a13cc732-1699-4be5-a737-9396d9e5b215",
   "metadata": {},
   "outputs": [],
   "source": [
    "len(Xfilt)"
   ]
  },
  {
   "cell_type": "markdown",
   "id": "5fc33aad-8fe8-4329-b218-830f6c81d6b8",
   "metadata": {},
   "source": [
    "## Data\n",
    "\n",
    "- If one load the data from `input_settings` retrieve the cosmos2020 data"
   ]
  },
  {
   "cell_type": "code",
   "execution_count": null,
   "id": "0463059b-7303-44fd-b9e9-9174bcae1c3f",
   "metadata": {},
   "outputs": [],
   "source": [
    "from rail.dsps_fors2_pz.io_utils import load_data_for_run"
   ]
  },
  {
   "cell_type": "code",
   "execution_count": null,
   "id": "514e6934-d1f0-4101-88f4-921ae5288e97",
   "metadata": {},
   "outputs": [],
   "source": [
    "the_data = load_data_for_run(input_settings)"
   ]
  },
  {
   "cell_type": "code",
   "execution_count": null,
   "id": "353c6d79-b5a6-4a4a-b9d5-66b0f1490365",
   "metadata": {},
   "outputs": [],
   "source": [
    "zgrid = the_data[0]"
   ]
  },
  {
   "cell_type": "code",
   "execution_count": null,
   "id": "66d2ed00-0356-49dc-a060-c56f6e57f4ff",
   "metadata": {},
   "outputs": [],
   "source": [
    "the_sedtemplates = the_data[1]"
   ]
  },
  {
   "cell_type": "code",
   "execution_count": null,
   "id": "7d900135-b8d9-4dd7-a065-b06283e70538",
   "metadata": {},
   "outputs": [],
   "source": [
    "the_sednames = list(the_sedtemplates.keys())\n",
    "the_sednames"
   ]
  },
  {
   "cell_type": "code",
   "execution_count": null,
   "id": "232555f7-2ea2-4869-a23d-8c9e89707f81",
   "metadata": {},
   "outputs": [],
   "source": [
    "the_sedname = the_sednames[0]\n",
    "the_sedname"
   ]
  },
  {
   "cell_type": "code",
   "execution_count": null,
   "id": "a6524147-9d09-4871-a057-42f81dc81d2e",
   "metadata": {},
   "outputs": [],
   "source": [
    "one_sed = the_sedtemplates[the_sedname] "
   ]
  },
  {
   "cell_type": "code",
   "execution_count": null,
   "id": "8c93a249-94f8-4ff4-a3f0-073f80a1d491",
   "metadata": {},
   "outputs": [],
   "source": [
    "one_sed"
   ]
  },
  {
   "cell_type": "markdown",
   "id": "a6215359-7686-4744-8545-2e558234ec65",
   "metadata": {},
   "source": [
    "## Observations"
   ]
  },
  {
   "cell_type": "code",
   "execution_count": null,
   "id": "e590904a-9fbd-4644-939f-63154fbf63a1",
   "metadata": {},
   "outputs": [],
   "source": [
    "print(\"Loading observations :\")\n",
    "data_path = os.path.abspath(os.path.join(PZDATALOC, input_settings['photoZ'][\"Dataset\"][\"path\"]))\n",
    "data_ismag = input_settings['photoZ'][\"Dataset\"][\"type\"].lower() == \"m\"\n",
    "\n",
    "data_file_arr = np.loadtxt(data_path)"
   ]
  },
  {
   "cell_type": "code",
   "execution_count": null,
   "id": "12889a50-e016-458b-b8c8-a92f5c422a31",
   "metadata": {},
   "outputs": [],
   "source": [
    "data_file_arr.shape"
   ]
  },
  {
   "cell_type": "code",
   "execution_count": null,
   "id": "e8dad804-2c72-44f1-b137-7032dbfded51",
   "metadata": {},
   "outputs": [],
   "source": [
    "plt.hist(data_file_arr[:,2],bins=50)"
   ]
  },
  {
   "cell_type": "code",
   "execution_count": null,
   "id": "6725db6b-f7f9-4b73-8e2f-19edd3868bc1",
   "metadata": {},
   "outputs": [],
   "source": [
    "obs_arr = []\n",
    "\n",
    "for i in tqdm(range(data_file_arr.shape[0])):\n",
    "    try:\n",
    "        assert (len(data_file_arr[i, :]) == 1 + 2 * N_FILT) or (\n",
    "                len(data_file_arr[i, :]) == 1 + 2 * N_FILT + 1\n",
    "            ), f\"At least one filter is missing in datapoint {data_file_arr[i,0]} : length is {len(data_file_arr[i,:])}, {1+2*N_FILT} values expected.\\nDatapoint removed from dataset.\"\n",
    "        # print(int(data_file_arr[i, 0]))\n",
    "        if len(data_file_arr[i, :]) == 1 + 2 * N_FILT + 1:\n",
    "            observ = Observation(int(data_file_arr[i, 0]), *load_galaxy(data_file_arr[i, 1 : 2 * N_FILT + 1], data_ismag, id_i_band=input_settings['photoZ'][\"i_band_num\"]), data_file_arr[i, 2 * N_FILT + 1])\n",
    "        else:\n",
    "            observ = Observation(int(data_file_arr[i, 0]), *load_galaxy(data_file_arr[i, 1 : 2 * N_FILT + 1], data_ismag, id_i_band=input_settings['photoZ'][\"i_band_num\"]), jnp.nan)\n",
    "        # print(observ.num)\n",
    "        obs_arr.extend([observ])\n",
    "    except AssertionError:\n",
    "        pass\n",
    "print(\"All data loaded and ready for use !\")"
   ]
  },
  {
   "cell_type": "code",
   "execution_count": null,
   "id": "7458f1a5-d478-4226-a90f-0e4ec67052e4",
   "metadata": {},
   "outputs": [],
   "source": [
    "len(obs_arr) "
   ]
  },
  {
   "cell_type": "code",
   "execution_count": null,
   "id": "b0ce1459-c325-4f97-9b34-329cf9afc872",
   "metadata": {},
   "outputs": [],
   "source": [
    "obs_arr[0]"
   ]
  },
  {
   "cell_type": "code",
   "execution_count": null,
   "id": "08bc851c-8abc-42cd-be3c-547f20203f99",
   "metadata": {},
   "outputs": [],
   "source": []
  }
 ],
 "metadata": {
  "kernelspec": {
   "display_name": "py310_rail",
   "language": "python",
   "name": "py310_rail"
  },
  "language_info": {
   "codemirror_mode": {
    "name": "ipython",
    "version": 3
   },
   "file_extension": ".py",
   "mimetype": "text/x-python",
   "name": "python",
   "nbconvert_exporter": "python",
   "pygments_lexer": "ipython3",
   "version": "3.10.15"
  }
 },
 "nbformat": 4,
 "nbformat_minor": 5
}
